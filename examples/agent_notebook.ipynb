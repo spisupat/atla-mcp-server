{
 "cells": [
  {
   "cell_type": "code",
   "execution_count": 1,
   "id": "1c4f50af",
   "metadata": {},
   "outputs": [],
   "source": [
    "from agents import Agent, Runner, set_default_openai_key\n",
    "from agents.mcp import MCPServerStdio\n",
    "import os \n",
    "import json\n",
    "\n",
    "# If the API keys are not already in your environment, you can set them here in <your_atla_api_key> and <your_openai_api_key>\n",
    "atla_api_key = os.environ.get(\"ATLA_API_KEY\", \"<your_atla_api_key>\")\n",
    "openai_api_key = os.environ.get(\"OPENAI_API_KEY\", \"<your_openai_api_key>\")\n",
    "set_default_openai_key(openai_api_key)"
   ]
  },
  {
   "cell_type": "code",
   "execution_count": 2,
   "id": "6f6c2c70",
   "metadata": {},
   "outputs": [],
   "source": [
    "async def run_agent_with_atla(user_request):\n",
    "    async with MCPServerStdio(\n",
    "            params={\n",
    "                \"command\": \"python\",\n",
    "                \"args\": [\"../atla-mcp-server.py\"],\n",
    "                \"env\": {\"ATLA_API_KEY\":atla_api_key}\n",
    "            }\n",
    "        ) as atla_mcp_server:\n",
    "            # Create an agent with the Atla evaluation server\n",
    "            agent = Agent(\n",
    "                name=\"AssistantWithAtlaEval\",\n",
    "                instructions=\"\"\"\n",
    "                You are a helpful assistant. Your goal is to provide high-quality responses to user requests.\n",
    "                You can use the Atla evaluation tool to improve your responses.\n",
    "                \"\"\",\n",
    "                mcp_servers=[atla_mcp_server], # You can equip any Agent with Atla's MCP server like this\n",
    "                model=\"gpt-4o-mini\"\n",
    "            )\n",
    "            \n",
    "            # Run the agent with the user request\n",
    "            result = await Runner.run(agent, user_request)\n",
    "            \n",
    "            # Print the MCP call result\n",
    "            for item in result.new_items:\n",
    "                if item.type == \"message_output_item\":\n",
    "                    print(\"\\n*******  Agent's response: ******\")\n",
    "                    print(item.raw_item.content[0].text)\n",
    "                elif item.type == 'tool_call_item':\n",
    "                    print(\"\\n*******  Agent's request to Atla tool: ******:\")\n",
    "                    print(json.loads(item.raw_item.arguments))\n",
    "                elif item.type == 'tool_call_output_item':\n",
    "                    print(\"\\n*******  Atla's response to Agent's request: ******:\")\n",
    "                    print(json.loads(item.output)['text'])"
   ]
  },
  {
   "cell_type": "code",
   "execution_count": 6,
   "id": "8235de2f",
   "metadata": {},
   "outputs": [
    {
     "name": "stdout",
     "output_type": "stream",
     "text": [
      "\n",
      "*******  Agent's request to Atla tool: ******:\n",
      "{'model_input': 'Write a one-line poem about the ocean.', 'model_output': 'The ocean whispers secrets to the shore, where waves dance and dreams explore.', 'evaluation_criteria': 'Evaluate the poem for cliches and suggest improvements to avoid them.', 'expected_model_output': None, 'model_context': None, 'model_id': 'atla-selene'}\n",
      "\n",
      "*******  Atla's response to Agent's request: ******:\n",
      "{\"score\": \"4\", \"critique\": \"The poem effectively captures the essence of the ocean, but it relies on familiar imagery like \\\"whispers secrets\\\" and \\\"waves dance,\\\" which are common oceanic cliches. To improve, consider adding unique sensory details or metaphors that evoke a fresh perspective on the ocean's mystique. For instance, instead of \\\"whispers secrets,\\\" the poem could explore the sound of the waves or the smell of the sea. Additionally, the phrase \\\"dreams explore\\\" feels somewhat generic; specifying what kind of dreams or explorations could enhance the poem's depth and specificity.\"}\n",
      "\n",
      "*******  Agent's response: ******\n",
      "**Original Poem:**\n",
      "\"The ocean whispers secrets to the shore, where waves dance and dreams explore.\"\n",
      "\n",
      "**Evaluation:**\n",
      "Score: 4  \n",
      "Critique: The poem captures the ocean's essence but relies on cliches like \"whispers secrets\" and \"waves dance.\" To improve, consider adding unique sensory details or specific metaphors.\n",
      "\n",
      "**Improved Poem:**\n",
      "\"The ocean murmurs tales of shipwrecks and sunken gold, where salt air carries wishes on the tide.\"\n"
     ]
    }
   ],
   "source": [
    "await run_agent_with_atla(user_request=\"Write a one-line poem about the ocean. Evaluate it with atla for cliche and improve it once using the feedback.\")"
   ]
  }
 ],
 "metadata": {
  "kernelspec": {
   "display_name": "insights",
   "language": "python",
   "name": "python3"
  },
  "language_info": {
   "codemirror_mode": {
    "name": "ipython",
    "version": 3
   },
   "file_extension": ".py",
   "mimetype": "text/x-python",
   "name": "python",
   "nbconvert_exporter": "python",
   "pygments_lexer": "ipython3",
   "version": "3.11.9"
  }
 },
 "nbformat": 4,
 "nbformat_minor": 5
}
